{
 "cells": [
  {
   "cell_type": "markdown",
   "id": "fa755255",
   "metadata": {},
   "source": [
    "# What is the perfect anatomy of a powerlifter?\n",
    "\n",
    "[Data source](https://openpowerlifting.gitlab.io/opl-csv/bulk-csv.html)"
   ]
  },
  {
   "cell_type": "code",
   "execution_count": null,
   "id": "9219982b",
   "metadata": {},
   "outputs": [],
   "source": [
    "import pandas as pd\n",
    "\n",
    "df = pd.read_csv('data/openpowerlifting-2025-05-03-c77c7449.csv')\n",
    "\n",
    "print(df.head())\n",
    "\n",
    "print(df.info())\n",
    "\n",
    "print(df.describe(include='all'))\n",
    "\n",
    "print(df.isnull().sum())"
   ]
  },
  {
   "cell_type": "code",
   "execution_count": null,
   "id": "10d40ff8",
   "metadata": {},
   "outputs": [],
   "source": [
    "# Top lifters by total weight lifted\n",
    "top_lifters = df[df['TotalKg'].notnull()].sort_values(by='TotalKg', ascending=False).head(10)\n",
    "print(top_lifters[['Name', 'Sex', 'TotalKg', 'WeightClassKg', 'Federation']])\n",
    "\n",
    "# Average lifts by gender\n",
    "avg_by_sex = df.groupby('Sex')[['Best3SquatKg', 'Best3BenchKg', 'Best3DeadliftKg', 'TotalKg']].mean()\n",
    "print(avg_by_sex)\n",
    "\n",
    "# Most common federations\n",
    "print(df['Federation'].value_counts().head(10))"
   ]
  }
 ],
 "metadata": {
  "language_info": {
   "name": "python"
  }
 },
 "nbformat": 4,
 "nbformat_minor": 5
}
