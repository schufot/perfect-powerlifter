{
 "cells": [
  {
   "cell_type": "markdown",
   "id": "fa755255",
   "metadata": {},
   "source": [
    "# What is the perfect anatomy of a powerlifter?\n",
    "\n",
    "[Data source](https://openpowerlifting.gitlab.io/opl-csv/bulk-csv.html)"
   ]
  },
  {
   "cell_type": "code",
   "execution_count": null,
   "id": "9219982b",
   "metadata": {},
   "outputs": [],
   "source": [
    "import pandas as pd\n",
    "\n",
    "df = pd.read_csv('data/openpowerlifting-2025-05-03-c77c7449.csv')\n",
    "\n",
    "print(df.head())\n",
    "\n",
    "print(df.info())\n",
    "\n",
    "print(df.describe(include='all'))\n",
    "\n",
    "print(df.isnull().sum())"
   ]
  },
  {
   "cell_type": "code",
   "execution_count": null,
   "id": "10d40ff8",
   "metadata": {},
   "outputs": [],
   "source": [
    "# Top lifters by total weight lifted\n",
    "top_lifters = df[df['TotalKg'].notnull()].sort_values(by='TotalKg', ascending=False).head(10)\n",
    "print(top_lifters[['Name', 'Sex', 'TotalKg', 'WeightClassKg', 'Federation']])\n",
    "\n",
    "# Average lifts by gender\n",
    "avg_by_sex = df.groupby('Sex')[['Best3SquatKg', 'Best3BenchKg', 'Best3DeadliftKg', 'TotalKg']].mean()\n",
    "print(avg_by_sex)\n",
    "\n",
    "# Most common federations\n",
    "print(df['Federation'].value_counts().head(10))"
   ]
  },
  {
   "cell_type": "code",
   "execution_count": null,
   "id": "40225aa0",
   "metadata": {},
   "outputs": [],
   "source": [
    "import seaborn as sns\n",
    "import matplotlib.pyplot as plt\n",
    "\n",
    "# Distribution of TotalKg\n",
    "sns.histplot(df['TotalKg'].dropna(), bins=50, kde=True)\n",
    "plt.title(\"Distribution of TotalKg\")\n",
    "plt.xlabel(\"Total Weight Lifted (Kg)\")\n",
    "plt.show()\n",
    "\n",
    "# Compare Dots scores by Equipment\n",
    "sns.boxplot(x='Equipment', y='Dots', data=df[df['Dots'].notnull()])\n",
    "plt.title(\"Dots Score by Equipment Type\")\n",
    "plt.xticks(rotation=45)\n",
    "plt.show()"
   ]
  },
  {
   "cell_type": "code",
   "execution_count": null,
   "id": "9cdcb161",
   "metadata": {},
   "outputs": [],
   "source": [
    "import cv2\n",
    "import mediapipe as mp\n",
    "import numpy as np\n",
    "\n",
    "mp_pose = mp.solutions.pose\n",
    "pose = mp_pose.Pose(static_image_mode=True)\n",
    "mp_drawing = mp.solutions.drawing_utils\n",
    "\n",
    "def get_distance(p1, p2):\n",
    "    return np.linalg.norm(np.array(p1) - np.array(p2))\n",
    "\n",
    "image_path = 'image.jpg'\n",
    "image = cv2.imread(image_path)\n",
    "image_rgb = cv2.cvtColor(image, cv2.COLOR_BGR2RGB)\n",
    "\n",
    "results = pose.process(image_rgb)\n",
    "\n",
    "if results.pose_landmarks:\n",
    "    h, w, _ = image.shape\n",
    "    landmarks = results.pose_landmarks.landmark\n",
    "\n",
    "    def get_xy(index):\n",
    "        lm = landmarks[index]\n",
    "        return [lm.x * w, lm.y * h]\n",
    "\n",
    "    schulter = get_xy(mp_pose.PoseLandmark.LEFT_SHOULDER.value)\n",
    "    ellenbogen = get_xy(mp_pose.PoseLandmark.LEFT_ELBOW.value)\n",
    "    handgelenk = get_xy(mp_pose.PoseLandmark.LEFT_WRIST.value)\n",
    "\n",
    "    huefte = get_xy(mp_pose.PoseLandmark.LEFT_HIP.value)\n",
    "    knie = get_xy(mp_pose.PoseLandmark.LEFT_KNEE.value)\n",
    "    fuss = get_xy(mp_pose.PoseLandmark.LEFT_ANKLE.value)\n",
    "\n",
    "    hals = get_xy(mp_pose.PoseLandmark.NOSE.value)\n",
    "\n",
    "    oberarm = get_distance(schulter, ellenbogen)\n",
    "    unterarm = get_distance(ellenbogen, handgelenk)\n",
    "    oberarmlänge = oberarm + unterarm\n",
    "\n",
    "    oberschenkel = get_distance(huefte, knie)\n",
    "    unterschenkel = get_distance(knie, fuss)\n",
    "    beinelänge = oberschenkel + unterschenkel\n",
    "\n",
    "    oberkörperlänge = get_distance(hals, huefte)\n",
    "\n",
    "    print(f\"Armlänge / Beinlänge: {oberarmlänge / beinelänge:.2f}\")\n",
    "    print(f\"Oberkörper / Beinlänge: {oberkörperlänge / beinelänge:.2f}\")\n",
    "else:\n",
    "    print(\"Keine Person erkannt.\")\n"
   ]
  }
 ],
 "metadata": {
  "language_info": {
   "name": "python"
  }
 },
 "nbformat": 4,
 "nbformat_minor": 5
}
