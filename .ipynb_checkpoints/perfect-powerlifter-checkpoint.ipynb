{
 "cells": [
  {
   "cell_type": "markdown",
   "id": "fa755255",
   "metadata": {},
   "source": [
    "# What is the perfect anatomy of a powerlifter?\n",
    "\n",
    "[Data source](https://openpowerlifting.gitlab.io/opl-csv/bulk-csv.html)"
   ]
  },
  {
   "cell_type": "markdown",
   "id": "0fa89422",
   "metadata": {},
   "source": [
    "import pandas as pd\n",
    "\n",
    "df = pd.read_csv(\"openpowerlifting.csv\")\n",
    "\n",
    "print(df.head())\n",
    "\n",
    "print(df.info())\n",
    "\n",
    "print(df.describe(include='all'))\n",
    "\n",
    "print(df.isnull().sum())\n"
   ]
  }
 ],
 "metadata": {
  "language_info": {
   "name": "python"
  }
 },
 "nbformat": 4,
 "nbformat_minor": 5
}
